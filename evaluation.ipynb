{
 "cells": [
  {
   "cell_type": "code",
   "execution_count": 14,
   "id": "72915b62",
   "metadata": {},
   "outputs": [],
   "source": [
    "import pandas as pd\n",
    "import numpy as np\n",
    "\n",
    "import matplotlib.pyplot as plt\n",
    "import seaborn as sns\n",
    "\n",
    "# BLEU\n",
    "import evaluate\n",
    "\n",
    "# Cosine Similarity\n",
    "from sentence_transformers import SentenceTransformer"
   ]
  },
  {
   "cell_type": "code",
   "execution_count": 9,
   "id": "7b935421",
   "metadata": {},
   "outputs": [
    {
     "data": {
      "text/plain": [
       "Index(['id', 'qid1', 'qid2', 'question1', 'question2', 'is_duplicate',\n",
       "       'question1_token_len', 'question2_token_len', 'synonym_replacement',\n",
       "       'finetuned_t5', 'original_t5', 'gpt_t5', 'llm'],\n",
       "      dtype='object')"
      ]
     },
     "execution_count": 9,
     "metadata": {},
     "output_type": "execute_result"
    }
   ],
   "source": [
    "paraphrased_eval_df = pd.read_csv(\"data/paraphrased_eval.csv\")\n",
    "paraphrased_eval_df.columns"
   ]
  },
  {
   "cell_type": "markdown",
   "id": "903313f6",
   "metadata": {},
   "source": [
    "# BLEU score"
   ]
  },
  {
   "cell_type": "code",
   "execution_count": null,
   "id": "89fc18d3",
   "metadata": {},
   "outputs": [
    {
     "name": "stdout",
     "output_type": "stream",
     "text": [
      "Synonym Replacement BLEU:  {'bleu': 0.18972922957262872, 'precisions': [0.5110855168442269, 0.2477150961235424, 0.13505046989209885, 0.0757870190439176], 'brevity_penalty': 1.0, 'length_ratio': 1.0178780773739742, 'translation_length': 3473, 'reference_length': 3412}\n",
      "Finetuned T5 BLEU:  {'bleu': 0.1947631910277385, 'precisions': [0.541747572815534, 0.2756272401433692, 0.15542168674698795, 0.09406392694063927], 'brevity_penalty': 0.9010386552002413, 'length_ratio': 0.9056271981242673, 'translation_length': 3090, 'reference_length': 3412}\n",
      "GPT T5 BLEU:  {'bleu': 0.10706842303409357, 'precisions': [0.39901732609257823, 0.15503223997757218, 0.07162534435261708, 0.02965958881024604], 'brevity_penalty': 1.0, 'length_ratio': 1.1333528722157094, 'translation_length': 3867, 'reference_length': 3412}\n",
      "Original T5 BLEU:  {'bleu': 0.22917713814817564, 'precisions': [0.5704948646125116, 0.30518365945760384, 0.18484500574052812, 0.10981409424989191], 'brevity_penalty': 0.9399431488768678, 'length_ratio': 0.9416764361078547, 'translation_length': 3213, 'reference_length': 3412}\n",
      "LLM BLEU:  {'bleu': 0.09843752094303494, 'precisions': [0.40156739811912223, 0.1519031141868512, 0.0694980694980695, 0.02925764192139738], 'brevity_penalty': 0.9327738697434069, 'length_ratio': 0.9349355216881594, 'translation_length': 3190, 'reference_length': 3412}\n"
     ]
    }
   ],
   "source": [
    "# Check here: https://huggingface.co/spaces/evaluate-metric/bleu\n",
    "references =  paraphrased_eval_df[\"question2\"].to_list()\n",
    "references = [[reference] for reference in references]\n",
    "\n",
    "synonym_replacement = paraphrased_eval_df[\"synonym_replacement\"].to_list()\n",
    "finetuned_t5 = paraphrased_eval_df[\"finetuned_t5\"].to_list()\n",
    "gpt_t5 = paraphrased_eval_df[\"gpt_t5\"].to_list()\n",
    "original_t5 = paraphrased_eval_df[\"original_t5\"].to_list()\n",
    "llm = paraphrased_eval_df[\"llm\"].to_list()\n",
    "\n",
    "\n",
    "bleu = evaluate.load(\"bleu\")\n",
    "\n",
    "synonym_replacement_bleu = bleu.compute(references=references, predictions=synonym_replacement)\n",
    "finetuned_t5_bleu = bleu.compute(references=references, predictions=finetuned_t5)\n",
    "gpt_t5_bleu = bleu.compute(references=references, predictions=gpt_t5)\n",
    "original_t5_bleu = bleu.compute(references=references, predictions=original_t5)\n",
    "llm_bleu = bleu.compute(references=references, predictions=llm)\n",
    "\n",
    "print(\"Synonym Replacement BLEU: \", synonym_replacement_bleu)\n",
    "print(\"Finetuned T5 BLEU: \", finetuned_t5_bleu)\n",
    "print(\"GPT T5 BLEU: \", gpt_t5_bleu)\n",
    "print(\"Original T5 BLEU: \", original_t5_bleu)\n",
    "print(\"LLM BLEU: \", llm_bleu)"
   ]
  },
  {
   "cell_type": "markdown",
   "id": "24abc171",
   "metadata": {},
   "source": [
    "- Taken from: https://huggingface.co/spaces/evaluate-metric/bleu\n",
    "- BLEU compares overlap in tokens from the predictions and references, instead of comparing meaning. This can lead to discrepancies between BLEU scores and human ratings.\n",
    "- Shorter predicted translations achieve higher scores than longer ones, simply due to how the score is calculated. A brevity penalty is introduced to attempt to counteract this.\n",
    "- BLEU scores are not comparable across different datasets, nor are they comparable across different languages.\n",
    "- BLEU scores can vary greatly depending on which parameters are used to generate the scores, especially when different tokenization and normalization techniques are used. It is therefore not possible to compare BLEU scores generated using different parameters, or when these parameters are unknown. For more discussion around this topic, see the following issue."
   ]
  },
  {
   "cell_type": "markdown",
   "id": "645b8c80",
   "metadata": {},
   "source": [
    "# Cosine Similarity"
   ]
  },
  {
   "cell_type": "code",
   "execution_count": null,
   "id": "6ead9df5",
   "metadata": {},
   "outputs": [
    {
     "name": "stdout",
     "output_type": "stream",
     "text": [
      "Synonym Replacement Cosine Similarity:  0.68806964\n",
      "Finetuned T5 Cosine Similarity:  0.8130487\n",
      "GPT T5 Cosine Similarity:  0.7879094\n",
      "Original T5 Cosine Similarity:  0.8381208\n",
      "LLM Cosine Similarity:  0.7537029\n"
     ]
    }
   ],
   "source": [
    "model = SentenceTransformer(\"all-MiniLM-L6-v2\")\n",
    "\n",
    "def cosine_similarity_pairwise(a, b):\n",
    "    # Normalize the vectors\n",
    "    a_norm = a / np.linalg.norm(a, axis=1, keepdims=True)\n",
    "    b_norm = b / np.linalg.norm(b, axis=1, keepdims=True)\n",
    "    # Calculate dot product for corresponding pairs\n",
    "    return np.sum(a_norm * b_norm, axis=1)\n",
    "\n",
    "references = paraphrased_eval_df[\"question2\"].to_list()\n",
    "synonym_replacement = paraphrased_eval_df[\"synonym_replacement\"].to_list()\n",
    "finetuned_t5 = paraphrased_eval_df[\"finetuned_t5\"].to_list()\n",
    "gpt_t5 = paraphrased_eval_df[\"gpt_t5\"].to_list()\n",
    "original_t5 = paraphrased_eval_df[\"original_t5\"].to_list()\n",
    "llm = paraphrased_eval_df[\"llm\"].to_list()\n",
    "\n",
    "references_emb = model.encode(references)\n",
    "synonym_replacement_emb = model.encode(synonym_replacement)\n",
    "finetuned_t5_emb = model.encode(finetuned_t5)\n",
    "gpt_t5_emb = model.encode(gpt_t5)\n",
    "original_t5_emb = model.encode(original_t5)\n",
    "llm_emb = model.encode(llm)\n",
    "\n",
    "\n",
    "# Calculate pairwise similarities\n",
    "synonym_replacement_similarities = cosine_similarity_pairwise(synonym_replacement_emb, references_emb)\n",
    "finetuned_t5_similarities = cosine_similarity_pairwise(finetuned_t5_emb, references_emb)\n",
    "gpt_t5_similarities = cosine_similarity_pairwise(gpt_t5_emb, references_emb)\n",
    "original_t5_similarities = cosine_similarity_pairwise(original_t5_emb, references_emb)\n",
    "llm_similarities = cosine_similarity_pairwise(llm_emb, references_emb)\n",
    "\n",
    "synonym_replacement_cosine_similarity = synonym_replacement_similarities.mean()\n",
    "finetuned_t5_cosine_similarity = finetuned_t5_similarities.mean()\n",
    "gpt_t5_cosine_similarity = gpt_t5_similarities.mean()\n",
    "original_t5_cosine_similarity = original_t5_similarities.mean()\n",
    "llm_cosine_similarity = llm_similarities.mean()\n",
    "\n",
    "print(\"Synonym Replacement Cosine Similarity: \", synonym_replacement_cosine_similarity)\n",
    "print(\"Finetuned T5 Cosine Similarity: \", finetuned_t5_cosine_similarity)\n",
    "print(\"GPT T5 Cosine Similarity: \", gpt_t5_cosine_similarity)\n",
    "print(\"Original T5 Cosine Similarity: \", original_t5_cosine_similarity)\n",
    "print(\"LLM Cosine Similarity: \", llm_cosine_similarity)"
   ]
  }
 ],
 "metadata": {
  "kernelspec": {
   "display_name": "llm_api",
   "language": "python",
   "name": "python3"
  },
  "language_info": {
   "codemirror_mode": {
    "name": "ipython",
    "version": 3
   },
   "file_extension": ".py",
   "mimetype": "text/x-python",
   "name": "python",
   "nbconvert_exporter": "python",
   "pygments_lexer": "ipython3",
   "version": "3.11.8"
  }
 },
 "nbformat": 4,
 "nbformat_minor": 5
}
